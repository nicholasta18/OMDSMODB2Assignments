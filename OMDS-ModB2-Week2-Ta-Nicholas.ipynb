{
 "cells": [
  {
   "cell_type": "markdown",
   "id": "5190b54c-d49c-4d6f-80cc-22555336a9cd",
   "metadata": {},
   "source": [
    "# Week 2 - Preprocessing, part 2\n",
    "\n",
    "# 1. Lesson: None"
   ]
  },
  {
   "cell_type": "markdown",
   "id": "47c4e5ff-b05f-4ef2-96f1-49dcb5beb158",
   "metadata": {},
   "source": [
    "# 2. Weekly graph question"
   ]
  },
  {
   "cell_type": "markdown",
   "id": "aad37e29-6e84-41fa-886d-abc1312213ab",
   "metadata": {},
   "source": [
    "The Storytelling With Data book mentions planning on a \"Who, What, and How\" for your data story.  Write down a possible Who, What, and How for your data, using the ideas in the book."
   ]
  },
  {
   "cell_type": "code",
   "execution_count": 34,
   "id": "c862fc32-1297-4587-b9da-4b0642ab3e6e",
   "metadata": {},
   "outputs": [],
   "source": [
    "#Who: Risk Management team at an bank.\n",
    "\n",
    "#What: Being a liason to the risk management team to understand a predictive model that I had developed.\n",
    "#making sure to get approval for pilot testing of the model and resource allocation to support the development and deployment.\n",
    "\n",
    "#How: Deliver a live presentation using a slide deck. The visuals will highlight the model’s performance followed up with a detailed report documenting the methodology, performance metrics, and data used, for stakeholders to review asynchronously."
   ]
  },
  {
   "cell_type": "markdown",
   "id": "898eb327-aefd-4ac0-b95a-92b616a2181b",
   "metadata": {},
   "source": [
    "# 3. Homework - work with your own data"
   ]
  },
  {
   "cell_type": "code",
   "execution_count": 1,
   "id": "fe925521-979f-4983-8d85-8db8d1316e99",
   "metadata": {},
   "outputs": [],
   "source": [
    "import pandas as pd\n",
    "import numpy as np\n",
    "from datetime import datetime, timedelta"
   ]
  },
  {
   "cell_type": "markdown",
   "id": "14836788-b235-4cd4-b94d-5f749c6141a8",
   "metadata": {},
   "source": [
    "This week, you will do the same types of exercises as last week, but you should use your chosen datasets that someone in your class found last semester. (They likely will not be the particular datasets that you found yourself.)\n",
    "\n",
    "### Here are some types of analysis you can do  Use Google, documentation, and ChatGPT to help you:\n",
    "\n",
    "- Summarize the datasets using info() and describe()\n",
    "\n",
    "- Are there any duplicate rows?\n",
    "\n",
    "- Are there any duplicate values in a given column (when this would be inappropriate?)\n",
    "\n",
    "- What are the mean, median, and mode of each column?\n",
    "\n",
    "- Are there any missing or null values?\n",
    "\n",
    "    - Do you want to fill in the missing value with a mean value?  A value of your choice?  Remove that row?\n",
    "\n",
    "- Identify any other inconsistent data (e.g. someone seems to be taking an action before they are born.)\n",
    "\n",
    "- Encode any categorical variables (e.g. with one-hot encoding.)\n",
    "\n",
    "### Conclusions:\n",
    "\n",
    "- Are the data usable?  If not, find some new data!\n",
    "\n",
    "- Do you need to modify or correct the data in some way?\n",
    "\n",
    "- Is there any class imbalance?  (Categories that have many more items than other categories)."
   ]
  },
  {
   "cell_type": "code",
   "execution_count": 18,
   "id": "43cf831a",
   "metadata": {},
   "outputs": [],
   "source": [
    "\n",
    "import kagglehub\n",
    "import os\n"
   ]
  },
  {
   "cell_type": "code",
   "execution_count": 19,
   "id": "654f01a8",
   "metadata": {},
   "outputs": [
    {
     "name": "stdout",
     "output_type": "stream",
     "text": [
      "Path to dataset files: /home/codespace/.cache/kagglehub/datasets/tusharbhadouria/credit-card-fraud-detection/versions/1\n"
     ]
    }
   ],
   "source": [
    "path = kagglehub.dataset_download(\"tusharbhadouria/credit-card-fraud-detection\")\n",
    "print(\"Path to dataset files:\", path)\n"
   ]
  },
  {
   "cell_type": "code",
   "execution_count": 20,
   "id": "5d888e58",
   "metadata": {},
   "outputs": [],
   "source": [
    "credit_fraud_path_to_file = os.path.join(path, \"fraudTrain.csv\")\n",
    "credit_fraud_raw_train = pd.read_csv(credit_fraud_path_to_file)\n",
    "\n",
    "credit_fraud_path_to_file_test = os.path.join(path,\"fraudTest.csv\")\n",
    "credit_fraud_raw_test = pd.read_csv(credit_fraud_path_to_file_test)\n"
   ]
  },
  {
   "cell_type": "code",
   "execution_count": null,
   "id": "50924dad",
   "metadata": {},
   "outputs": [],
   "source": [
    "#info and describe for datat\n",
    "print(\" Info for fraudTrain.csv \")\n",
    "credit_fraud_raw_train.info()\n",
    "\n",
    "print(\"\\n Describe for fraudTrain.csv \")\n",
    "credit_fraud_raw_train.describe()\n"
   ]
  },
  {
   "cell_type": "code",
   "execution_count": null,
   "id": "6b569af5",
   "metadata": {},
   "outputs": [],
   "source": [
    "print(\"\\n Info for fraudTest.csv \")\n",
    "credit_fraud_raw_test.info()\n",
    "\n",
    "print(\"\\n Describe for fraudTest.csv \")\n",
    "credit_fraud_raw_test.describe()"
   ]
  },
  {
   "cell_type": "code",
   "execution_count": 23,
   "id": "770f2c7a",
   "metadata": {},
   "outputs": [
    {
     "name": "stdout",
     "output_type": "stream",
     "text": [
      "Number of duplicate rows in fraudTrain.csv: 0\n",
      "Number of duplicate rows in fraudTest.csv: 0\n",
      "No full duplicate rows found in fraudTrain.csv.\n",
      "No full duplicate rows found in fraudTest.csv.\n"
     ]
    }
   ],
   "source": [
    "#Summing up how many duplicates there are\n",
    "duplicate_rows_train = credit_fraud_raw_train.duplicated().sum()\n",
    "print(f\"Number of duplicate rows in fraudTrain.csv: {duplicate_rows_train}\")\n",
    "\n",
    "duplicate_rows_test = credit_fraud_raw_test.duplicated().sum()\n",
    "print(f\"Number of duplicate rows in fraudTest.csv: {duplicate_rows_test}\")\n",
    "\n",
    "#dropping duplicates\n",
    "if duplicate_rows_train > 0:\n",
    "    credit_fraud_raw_train_cleaned = credit_fraud_raw_train.drop_duplicates().copy()\n",
    "    print(f\"Removed {duplicate_rows_train} duplicate rows from fraudTrain.csv.\")\n",
    "    print(f\"New shape of fraudTrain.csv: {credit_fraud_raw_train_cleaned.shape}\")\n",
    "else:\n",
    "    credit_fraud_raw_train_cleaned = credit_fraud_raw_train.copy() # Create a copy even if no duplicates\n",
    "    print(\"No full duplicate rows found in fraudTrain.csv.\")\n",
    "\n",
    "if duplicate_rows_test > 0:\n",
    "    credit_fraud_raw_test_cleaned = credit_fraud_raw_test.drop_duplicates().copy()\n",
    "    print(f\"Removed {duplicate_rows_test} duplicate rows from fraudTest.csv.\")\n",
    "    print(f\"New shape of fraudTest.csv: {credit_fraud_raw_test_cleaned.shape}\")\n",
    "else:\n",
    "    credit_fraud_raw_test_cleaned = credit_fraud_raw_test.copy() # Create a copy even if no duplicates\n",
    "    print(\"No full duplicate rows found in fraudTest.csv.\")\n"
   ]
  },
  {
   "cell_type": "code",
   "execution_count": 28,
   "id": "17fa8380",
   "metadata": {},
   "outputs": [
    {
     "name": "stdout",
     "output_type": "stream",
     "text": [
      "\n",
      "Number of duplicate trans_num in fraudTrain.csv: 0\n",
      "No duplicate values found in trans_num in fraudTrain.csv.\n"
     ]
    }
   ],
   "source": [
    "#Checking for duplicates in column where this would be inappropriate\n",
    "unique_id_column = 'trans_num'  #Going to check transaction number column where which each transaction should have a unique number\n",
    "\n",
    "if unique_id_column in credit_fraud_raw_train_cleaned.columns:\n",
    "    duplicate_ids_train = credit_fraud_raw_train_cleaned[unique_id_column].duplicated().sum()\n",
    "    print(f\"\\nNumber of duplicate {unique_id_column} in fraudTrain.csv: {duplicate_ids_train}\")\n",
    "\n",
    "    if duplicate_ids_train > 0:\n",
    "        print(f\"Warning: Duplicate values found in {unique_id_column}. This might be an issue if it's supposed to be a unique identifier.\")\n",
    "    else:\n",
    "        print(f\"No duplicate values found in {unique_id_column} in fraudTrain.csv.\")\n",
    "else:\n",
    "    print(f\"\\nNo column named '{unique_id_column}' found in fraudTrain.csv to check for unique IDs.\")\n",
    "    print(\"This step is typically applied to columns that are expected to be unique identifiers (e.g., customer IDs, order IDs).\")\n"
   ]
  },
  {
   "cell_type": "code",
   "execution_count": null,
   "id": "f48c2bed",
   "metadata": {},
   "outputs": [],
   "source": [
    "#Finding mean, median, and mode, for each column\n",
    "means = credit_fraud_raw_train_cleaned.mean(numeric_only=True)\n",
    "medians = credit_fraud_raw_train_cleaned.median(numeric_only=True)\n",
    "modes = credit_fraud_raw_train_cleaned.mode(numeric_only=True).iloc[0]\n",
    "\n",
    "summary = pd.DataFrame({\n",
    "    'Mean': means,\n",
    "    'Median': medians,\n",
    "    'Mode': modes\n",
    "})\n",
    "\n",
    "print(summary)\n"
   ]
  },
  {
   "cell_type": "code",
   "execution_count": 31,
   "id": "ff2f6f10",
   "metadata": {},
   "outputs": [
    {
     "name": "stdout",
     "output_type": "stream",
     "text": [
      "Series([], dtype: int64)\n",
      "Series([], dtype: int64)\n"
     ]
    }
   ],
   "source": [
    "#Finding missing values\n",
    "missing_train = credit_fraud_raw_train_cleaned.isnull().sum()\n",
    "print(missing_train[missing_train > 0])\n",
    "\n",
    "missing_test = credit_fraud_raw_test_cleaned.isnull().sum()\n",
    "print(missing_test[missing_test > 0])"
   ]
  },
  {
   "cell_type": "markdown",
   "id": "9d376ff0",
   "metadata": {},
   "source": [
    "Conclusion:\n",
    "The data is usable but would require some preprocessing to make sure that all data is accurate and consistent. \n",
    "\n",
    "This particular dataset did not needed to be modified or corrected. From my EDA it looks like there are no missing values or any duplicate values (where inappropriate), however the data should be sifted for any erroneous values, such as negative numbers where not appropriate (i.e. transaction amount).\n",
    "\n",
    "In fraud dataset there is explicit class imbalance. This is because of the distribution of non-fraudulent transactions versus fradualent transactions. This could lead to skewed performance of the model. A way strong way to mitigate this is by using models that handle this imbalance well such as decision trees.\n",
    "\n"
   ]
  },
  {
   "cell_type": "markdown",
   "id": "abab9e6d-18cc-4863-b980-3e52f581763a",
   "metadata": {},
   "source": [
    "# 4. Storytelling With Data graph"
   ]
  },
  {
   "cell_type": "markdown",
   "id": "1911148d-9df6-4b33-a875-8c96408ec834",
   "metadata": {},
   "source": [
    "Just like last week: choose any graph in the Introduction of Storytelling With Data. Use matplotlib to reproduce it in a rough way. I don't expect you to spend an enormous amount of time on this; I understand that you likely will not have time to re-create every feature of the graph. However, if you're excited about learning to use matplotlib, this is a good way to do that. You don't have to duplicate the exact values on the graph; just the same rough shape will be enough.  If you don't feel comfortable using matplotlib yet, do the best you can and write down what you tried or what Google searches you did to find the answers."
   ]
  },
  {
   "cell_type": "code",
   "execution_count": 33,
   "id": "8b2888f9-3700-45ab-9829-6a5372106f9f",
   "metadata": {},
   "outputs": [
    {
     "data": {
      "image/png": "[encoded data removed]",
      "text/plain": [
       "<Figure size 1000x400 with 2 Axes>"
      ]
     },
     "metadata": {},
     "output_type": "display_data"
    }
   ],
   "source": [
    "import matplotlib.pyplot as plt\n",
    "\n",
    "x = [1, 2, 3, 4, 5, 6, 7]\n",
    "y = [5, 4, 4, 3, 6, 5, 8]\n",
    "\n",
    "fig, axs = plt.subplots(1, 2, figsize=(10, 4))\n",
    "\n",
    "axs[0].scatter(x, y, s=100, color='black')\n",
    "axs[0].set_title('Just dots')\n",
    "axs[0].set_xticks([])\n",
    "axs[0].set_yticks([])\n",
    "\n",
    "axs[1].plot(x, y, marker='o', markersize=10, color='black', linewidth=2)\n",
    "axs[1].set_title('Dots with lines')\n",
    "axs[1].set_xticks([])\n",
    "axs[1].set_yticks([])\n",
    "\n",
    "for ax in axs:\n",
    "    ax.spines['top'].set_visible(False)\n",
    "    ax.spines['right'].set_visible(False)\n",
    "\n",
    "plt.tight_layout()\n",
    "plt.show()\n"
   ]
  }
 ],
 "metadata": {
  "kernelspec": {
   "display_name": "Python 3",
   "language": "python",
   "name": "python3"
  },
  "language_info": {
   "codemirror_mode": {
    "name": "ipython",
    "version": 3
   },
   "file_extension": ".py",
   "mimetype": "text/x-python",
   "name": "python",
   "nbconvert_exporter": "python",
   "pygments_lexer": "ipython3",
   "version": "3.12.1"
  }
 },
 "nbformat": 4,
 "nbformat_minor": 5
}
